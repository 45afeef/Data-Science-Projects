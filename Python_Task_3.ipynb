{
  "nbformat": 4,
  "nbformat_minor": 0,
  "metadata": {
    "colab": {
      "provenance": []
    },
    "kernelspec": {
      "name": "python3",
      "display_name": "Python 3"
    },
    "language_info": {
      "name": "python"
    }
  },
  "cells": [
    {
      "cell_type": "markdown",
      "source": [
        "1. Write a Python program to sum all the items in a list.\n",
        "2. Write a Python program to get the largest number from a list.\n",
        "3. Write a Python program to count the number of strings from a given list of strings. The string length is 2 or more and the first and last characters are the same.\n",
        "Sample List : ['abc', 'xyz', 'aba', '1221']\n",
        "Expected Result : 2\n",
        "4. Write a Python program to remove duplicates from a list.\n",
        "5. Write a Python program to check if a list is empty or not.\n",
        "6. Write a Python program to filter the list if the length of the character is < 4\n",
        "Sample List : ['abc', 'xyz', 'aba', '1221']\n",
        "Expected Result: ['abc', 'xyz', 'aba']\n",
        "7.Write a Python program to find the second largest number in a list.\n",
        "8. Write a Python program to reverse a list at a specific location.\n",
        "9. Write a Python program to check if a list is a palindrome or not. Return true otherwise false.\n",
        "10. Write a Python a program to find the union and intersection of two lists.\n",
        "11.Write a Python script to sort (ascending and descending) a dictionary by value\n",
        "12. Write a Python script to check whether a given key already exists in a dictionary.\n",
        "13.Write a Python program to sum all the values in a dictionary.\n",
        "14.Write a Python program to create a dictionary with a number and its corresponding square from 1 to input number. And also check if the input number is less than 10\n",
        "Eg:\n",
        "Input : 3\n",
        "Output : {1:1, 2:4, 3:9}\n",
        "15.Write a Python program to sort a given dictionary by key.\n",
        "16.  Write a Python program to create a dictionary from a string.\n",
        "Note: Track the count of the letters from the string.\n",
        "Sample string : 'learnpython'\n",
        "Expected output: {'l': 1, 'e': 1, 'a': 1, 'r': 1, 'n': 2, 'p': 1, 'y': 1, 't': 1, 'h': 1, 'o': 1}\n",
        "17. Write a Python program to get the top three items in a shop.\n",
        "Sample data: {'item1': 45.50, 'item2':35, 'item3': 41.30, 'item4':55, 'item5': 24}\n",
        "Expected Output:\n",
        "item4 55\n",
        "item1 45.5\n",
        "item3 41.3\n",
        "\n",
        "\n",
        "\n"
      ],
      "metadata": {
        "id": "MMKT57h7c9FE"
      }
    },
    {
      "cell_type": "markdown",
      "source": [
        "1. Write a Python program to sum all the items in a list."
      ],
      "metadata": {
        "id": "lH71LYkhdCqh"
      }
    },
    {
      "cell_type": "code",
      "execution_count": 1,
      "metadata": {
        "colab": {
          "base_uri": "https://localhost:8080/"
        },
        "id": "X9DFY9Iic3CN",
        "outputId": "3145ff21-1b4f-48d2-9148-dd9b22b5693a"
      },
      "outputs": [
        {
          "output_type": "stream",
          "name": "stdout",
          "text": [
            "1990\n"
          ]
        }
      ],
      "source": [
        "l = [2,3,4,51,2,42,234,2,1235,123,114,123,42,13]\n",
        "\n",
        "sum = 0\n",
        "for i in l:\n",
        "  sum += i\n",
        "\n",
        "print(sum)"
      ]
    },
    {
      "cell_type": "markdown",
      "source": [
        "2. Write a Python program to get the largest number from a list.\n"
      ],
      "metadata": {
        "id": "pMD2PpeVdeqC"
      }
    },
    {
      "cell_type": "code",
      "source": [
        "print(max(l))"
      ],
      "metadata": {
        "colab": {
          "base_uri": "https://localhost:8080/"
        },
        "id": "pG2jMmxfc7Pt",
        "outputId": "48a1be6e-6521-4369-8c00-9bda80b0754e"
      },
      "execution_count": 2,
      "outputs": [
        {
          "output_type": "stream",
          "name": "stdout",
          "text": [
            "1235\n"
          ]
        }
      ]
    },
    {
      "cell_type": "markdown",
      "source": [
        "3. Write a Python program to count the number of strings from a given list of strings. The string length is 2 or more and the first and last characters are the same.\n",
        "Sample List : ['abc', 'xyz', 'aba', '1221']\n",
        "Expected Result : 2\n"
      ],
      "metadata": {
        "id": "sbODV-NVdgXw"
      }
    },
    {
      "cell_type": "code",
      "source": [
        "l = ['abc', 'xyz', 'aba', '122551']\n",
        "\n",
        "count = 0\n",
        "\n",
        "for i in l:\n",
        "  if len(i) >= 2 and i[-1] == i[0]:\n",
        "    count += 1\n",
        "\n",
        "print(count)"
      ],
      "metadata": {
        "colab": {
          "base_uri": "https://localhost:8080/"
        },
        "id": "FeUOotx8dgy4",
        "outputId": "d35cbd90-618c-459f-abd2-0f235e7e920f"
      },
      "execution_count": 3,
      "outputs": [
        {
          "output_type": "stream",
          "name": "stdout",
          "text": [
            "2\n"
          ]
        }
      ]
    },
    {
      "cell_type": "markdown",
      "source": [
        "4. Write a Python program to remove duplicates from a list.\n"
      ],
      "metadata": {
        "id": "d28wtpLSebDh"
      }
    },
    {
      "cell_type": "code",
      "source": [
        "l = ['a','a','a','b']\n",
        "\n",
        "print(list(set(l)))"
      ],
      "metadata": {
        "colab": {
          "base_uri": "https://localhost:8080/"
        },
        "id": "c-_h1qBkea1g",
        "outputId": "1db5c38a-c1fa-428e-ba37-d367a4786391"
      },
      "execution_count": 4,
      "outputs": [
        {
          "output_type": "stream",
          "name": "stdout",
          "text": [
            "['b', 'a']\n"
          ]
        }
      ]
    },
    {
      "cell_type": "markdown",
      "source": [
        "5. Write a Python program to check if a list is empty or not.\n"
      ],
      "metadata": {
        "id": "SKV7sFvoearv"
      }
    },
    {
      "cell_type": "code",
      "source": [
        "l = []\n",
        "\n",
        "print(\"Is the list is empty : {}\".format(len(l) == 0))"
      ],
      "metadata": {
        "colab": {
          "base_uri": "https://localhost:8080/"
        },
        "id": "I0PfH60Qeakh",
        "outputId": "63420e95-8ad5-4ae2-d0fd-c95ee7883dc8"
      },
      "execution_count": 5,
      "outputs": [
        {
          "output_type": "stream",
          "name": "stdout",
          "text": [
            "Is the list is empty : True\n"
          ]
        }
      ]
    },
    {
      "cell_type": "markdown",
      "source": [
        "6. Write a Python program to filter the list if the length of the character is < 4\n",
        "Sample List : ['abc', 'xyz', 'aba', '1221']\n",
        "Expected Result: ['abc', 'xyz', 'aba']\n"
      ],
      "metadata": {
        "id": "veOjdD5seadJ"
      }
    },
    {
      "cell_type": "code",
      "source": [
        "def lessThanThree(s):\n",
        "  return len(s) <4\n",
        "\n",
        "l = ['abc','pqr','xyz', '11234']\n",
        "\n",
        "nl = filter(lessThanThree,l)\n",
        "\n",
        "print(list(nl))\n"
      ],
      "metadata": {
        "colab": {
          "base_uri": "https://localhost:8080/"
        },
        "id": "zAXqzarjeaWW",
        "outputId": "08d113a7-0fb6-4493-f442-88ea9df43877"
      },
      "execution_count": 6,
      "outputs": [
        {
          "output_type": "stream",
          "name": "stdout",
          "text": [
            "['abc', 'pqr', 'xyz']\n"
          ]
        }
      ]
    },
    {
      "cell_type": "markdown",
      "source": [
        "7.Write a Python program to find the second largest number in a list.\n"
      ],
      "metadata": {
        "id": "BIkWfoWIeaPX"
      }
    },
    {
      "cell_type": "code",
      "source": [
        "l = [1,3,42,2,4,2,4,5,2,3,55]\n",
        "\n",
        "l.sort()\n",
        "\n",
        "print(l[-2])"
      ],
      "metadata": {
        "colab": {
          "base_uri": "https://localhost:8080/"
        },
        "id": "YQ1CtSL4eaG4",
        "outputId": "47d767d7-77f9-4ffa-c575-af0b9515ef6e"
      },
      "execution_count": 7,
      "outputs": [
        {
          "output_type": "stream",
          "name": "stdout",
          "text": [
            "42\n"
          ]
        }
      ]
    },
    {
      "cell_type": "markdown",
      "source": [
        "8. Write a Python program to reverse a list at a specific location.\n"
      ],
      "metadata": {
        "id": "jm_sRRTUeZ__"
      }
    },
    {
      "cell_type": "code",
      "source": [
        "l = [1,2,4,5,67,8,9,0,100]\n",
        "\n",
        "location = int(input(\"Enter an location index to reverse : \"))\n",
        "\n",
        "f = l[:location]\n",
        "l = l[location:]\n",
        "\n",
        "l.reverse()\n",
        "f.extend(l)\n",
        "\n",
        "print(f)"
      ],
      "metadata": {
        "colab": {
          "base_uri": "https://localhost:8080/"
        },
        "id": "JCLtvDfGeZ33",
        "outputId": "5bb9b276-de99-4000-d0b8-ac00048bc0b6"
      },
      "execution_count": 8,
      "outputs": [
        {
          "output_type": "stream",
          "name": "stdout",
          "text": [
            "Enter an location index to reverse : 56\n",
            "[1, 2, 4, 5, 67, 8, 9, 0, 100]\n"
          ]
        }
      ]
    },
    {
      "cell_type": "markdown",
      "source": [
        "9. Write a Python program to check if a list is a palindrome or not. Return true otherwise false.\n"
      ],
      "metadata": {
        "id": "vqXHgsQseZwW"
      }
    },
    {
      "cell_type": "code",
      "source": [
        "ps = \"abcba\"\n",
        "\n",
        "def f(s):\n",
        "  i = 0\n",
        "  while i <= (len(s)/2):\n",
        "    if s[i] == s[-1*(i+1)]:\n",
        "      i += 1\n",
        "    else:\n",
        "      return False\n",
        "  return True\n",
        "\n",
        "print(f(ps))"
      ],
      "metadata": {
        "colab": {
          "base_uri": "https://localhost:8080/"
        },
        "id": "zUb69qfHeZpT",
        "outputId": "351f1e64-b93a-4287-8113-210c509e1298"
      },
      "execution_count": 9,
      "outputs": [
        {
          "output_type": "stream",
          "name": "stdout",
          "text": [
            "True\n"
          ]
        }
      ]
    },
    {
      "cell_type": "markdown",
      "source": [
        "10. Write a Python a program to find the union and intersection of two lists."
      ],
      "metadata": {
        "id": "xF6ucWfoeZiQ"
      }
    },
    {
      "cell_type": "code",
      "source": [
        "l1 = [1,2,3,4,5,6]\n",
        "l2 = [4,6,8,0]\n",
        "\n",
        "u = list(set(l1) | set(l2))\n",
        "i = list(set(l1) & set(l2))\n",
        "\n",
        "print(\"Union of both lists are {}\".format(u))\n",
        "print(\"Intersection of both lists are {}\".format(i))\n"
      ],
      "metadata": {
        "colab": {
          "base_uri": "https://localhost:8080/"
        },
        "id": "LFd46f-FeZbQ",
        "outputId": "bf1649d5-d19b-4558-d840-81e588ace364"
      },
      "execution_count": 10,
      "outputs": [
        {
          "output_type": "stream",
          "name": "stdout",
          "text": [
            "Union of both lists are [0, 1, 2, 3, 4, 5, 6, 8]\n",
            "Intersection of both lists are [4, 6]\n"
          ]
        }
      ]
    },
    {
      "cell_type": "markdown",
      "source": [
        "11.Write a Python script to sort (ascending and descending) a dictionary by value\n"
      ],
      "metadata": {
        "id": "2rKGYUlWeZSP"
      }
    },
    {
      "cell_type": "code",
      "source": [
        "\n",
        "d =  {\"a\":2,\"e\":1,\"c\":23,\"d\":29}\n",
        "\n",
        "d = {k:v for k,v in sorted(d.items(),key = lambda x:x[1])}\n",
        "\n",
        "d\n"
      ],
      "metadata": {
        "colab": {
          "base_uri": "https://localhost:8080/"
        },
        "id": "lpaD120_eZLH",
        "outputId": "269a0c2d-1b98-4fb8-f757-320b6f1a3523"
      },
      "execution_count": 11,
      "outputs": [
        {
          "output_type": "execute_result",
          "data": {
            "text/plain": [
              "{'e': 1, 'a': 2, 'c': 23, 'd': 29}"
            ]
          },
          "metadata": {},
          "execution_count": 11
        }
      ]
    },
    {
      "cell_type": "markdown",
      "source": [
        "12. Write a Python script to check whether a given key already exists in a dictionary.\n"
      ],
      "metadata": {
        "id": "fGb1dVcjeZCp"
      }
    },
    {
      "cell_type": "code",
      "source": [
        "d =  {\"a\":2,\"e\":1,\"c\":23,\"d\":29}\n",
        "\n",
        "key = str(input('Enter the key to check : '))\n",
        "\n",
        "print(\"Is {} present in {} : {}\".format(key,d,key in d))"
      ],
      "metadata": {
        "colab": {
          "base_uri": "https://localhost:8080/"
        },
        "id": "_TiLisgPeY8H",
        "outputId": "1e844871-25e2-4d86-b5b2-5f007d294736"
      },
      "execution_count": 12,
      "outputs": [
        {
          "output_type": "stream",
          "name": "stdout",
          "text": [
            "Enter the key to check : 23\n",
            "Is 23 present in {'a': 2, 'e': 1, 'c': 23, 'd': 29} : False\n"
          ]
        }
      ]
    },
    {
      "cell_type": "markdown",
      "source": [
        "13.Write a Python program to sum all the values in a dictionary.\n"
      ],
      "metadata": {
        "id": "4Ko9gpQpeY0K"
      }
    },
    {
      "cell_type": "code",
      "source": [
        "su = 0\n",
        "\n",
        "for k,v in d.items():\n",
        "  su += v\n",
        "\n",
        "print(su)\n",
        "\n",
        "# One line solution\n",
        "# print(sum([v for k,v in d.items()]))"
      ],
      "metadata": {
        "colab": {
          "base_uri": "https://localhost:8080/"
        },
        "id": "5sfAaomteYrn",
        "outputId": "a8558d53-25a9-4b3c-c714-4eca520f538b"
      },
      "execution_count": 14,
      "outputs": [
        {
          "output_type": "stream",
          "name": "stdout",
          "text": [
            "55\n"
          ]
        }
      ]
    },
    {
      "cell_type": "markdown",
      "source": [
        "14.Write a Python program to create a dictionary with a number and its corresponding square from 1 to input number. And also check if the input number is less than 10\n",
        "Eg:\n",
        "Input : 3\n",
        "Output : {1:1, 2:4, 3:9}\n"
      ],
      "metadata": {
        "id": "gOu5wPVqeYTg"
      }
    },
    {
      "cell_type": "code",
      "source": [
        "enteredNumber = int(input('Enter a number : '))\n",
        "\n",
        "if enteredNumber < 0 or enteredNumber > 10:\n",
        "  print('Opperation not supported')\n",
        "else:\n",
        "  squares = {i:i*i for i in range(1,1+enteredNumber)}\n",
        "  print(squares)\n",
        "\n"
      ],
      "metadata": {
        "colab": {
          "base_uri": "https://localhost:8080/"
        },
        "id": "ztWSJV85epPH",
        "outputId": "e0e0c15e-c9fe-4e41-ea39-06f2a008706e"
      },
      "execution_count": 17,
      "outputs": [
        {
          "output_type": "stream",
          "name": "stdout",
          "text": [
            "Enter a number : 9\n",
            "{1: 1, 2: 4, 3: 9, 4: 16, 5: 25, 6: 36, 7: 49, 8: 64, 9: 81}\n"
          ]
        }
      ]
    },
    {
      "cell_type": "markdown",
      "source": [
        "15.Write a Python program to sort a given dictionary by key."
      ],
      "metadata": {
        "id": "SFC8HukpeqgI"
      }
    },
    {
      "cell_type": "code",
      "source": [
        "sortedDictByKey = dict(sorted(squares.items()))\n",
        "\n",
        "print(sortedDictByKey)"
      ],
      "metadata": {
        "colab": {
          "base_uri": "https://localhost:8080/"
        },
        "id": "hcevCToBeqX6",
        "outputId": "96174d16-e475-4e20-9cd3-a75235355cb4"
      },
      "execution_count": 18,
      "outputs": [
        {
          "output_type": "stream",
          "name": "stdout",
          "text": [
            "{1: 1, 2: 4, 3: 9, 4: 16, 5: 25, 6: 36, 7: 49, 8: 64, 9: 81}\n"
          ]
        }
      ]
    },
    {
      "cell_type": "markdown",
      "source": [
        "16.  Write a Python program to create a dictionary from a string.\n",
        "Note: Track the count of the letters from the string.\n",
        "Sample string : 'learnpython'\n",
        "Expected output: {'l': 1, 'e': 1, 'a': 1, 'r': 1, 'n': 2, 'p': 1, 'y': 1, 't': 1, 'h': 1, 'o': 1}\n"
      ],
      "metadata": {
        "id": "XLIjvRIVeqNw"
      }
    },
    {
      "cell_type": "code",
      "source": [
        "s = 'learnPython'\n",
        "\n",
        "d = {c:s.count(c) for c in set(s)}\n",
        "\n",
        "print(d)"
      ],
      "metadata": {
        "colab": {
          "base_uri": "https://localhost:8080/"
        },
        "id": "3qtvJ0sYeqGU",
        "outputId": "fd95698d-7b63-423a-ba56-283bb4c14c4d"
      },
      "execution_count": 19,
      "outputs": [
        {
          "output_type": "stream",
          "name": "stdout",
          "text": [
            "{'P': 1, 'l': 1, 'r': 1, 'n': 2, 'h': 1, 'e': 1, 'a': 1, 't': 1, 'y': 1, 'o': 1}\n"
          ]
        }
      ]
    },
    {
      "cell_type": "markdown",
      "source": [
        "17. Write a Python program to get the top three items in a shop.\n",
        "Sample data: {'item1': 45.50, 'item2':35, 'item3': 41.30, 'item4':55, 'item5': 24}\n",
        "Expected Output:\n",
        "item4 55\n",
        "item1 45.5\n",
        "item3 41.3"
      ],
      "metadata": {
        "id": "aXOUOootep_h"
      }
    },
    {
      "cell_type": "code",
      "source": [
        "allItemsDict =  {'item1': 45.50, 'item2':35, 'item3': 41.30, 'item4':55, 'item5': 24}\n",
        "\n",
        "sortedByDescByPrice = sorted(allItemsDict.items(),key=lambda x:x[1],reverse=True)\n",
        "\n",
        "topItemsDict = dict(sortedByDescByPrice[:3])\n",
        "print(topItemsDict)"
      ],
      "metadata": {
        "colab": {
          "base_uri": "https://localhost:8080/"
        },
        "id": "SNdsjW-1ep44",
        "outputId": "bf5632bd-7e57-467e-cc37-5137e218b958"
      },
      "execution_count": 20,
      "outputs": [
        {
          "output_type": "stream",
          "name": "stdout",
          "text": [
            "{'item4': 55, 'item1': 45.5, 'item3': 41.3}\n"
          ]
        }
      ]
    }
  ]
}