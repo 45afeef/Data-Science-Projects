{
  "nbformat": 4,
  "nbformat_minor": 0,
  "metadata": {
    "colab": {
      "provenance": []
    },
    "kernelspec": {
      "name": "python3",
      "display_name": "Python 3"
    },
    "language_info": {
      "name": "python"
    }
  },
  "cells": [
    {
      "cell_type": "markdown",
      "source": [
        "# DeepLearning Mnist Fashion\n",
        "\n",
        "Deep Learning CNN for Fashion-MNIST Clothing Classification\n",
        "\n",
        "The Fashion-MNIST clothing classification problem is a new standard dataset used in computer vision and deep learning.\n",
        "\n",
        "\n",
        "Dataset : https://github.com/zalandoresearch/fashion-mnist\n",
        "\n",
        "You can directly import dataset from keras : from tf.keras.datasets import fashion_mnist\n",
        "\n",
        "https://www.tensorflow.org/api_docs/python/tf/keras/datasets/fashion_mnist/load_data\n",
        "\n",
        "\n",
        "\n",
        "\n",
        "If you have any doubts refer to this URL\n",
        "\n",
        "https://machinelearningmastery.com/tensorflow-tutorial-deep-learning-with-tf-keras/\n"
      ],
      "metadata": {
        "id": "_BfMvdPsbNKs"
      }
    },
    {
      "cell_type": "code",
      "execution_count": 1,
      "metadata": {
        "id": "MVbOiDbubKY4"
      },
      "outputs": [],
      "source": [
        "# Import required libraries\n",
        "import tensorflow as tf\n",
        "from tensorflow.keras.datasets import fashion_mnist\n",
        "from tensorflow.keras.models import Sequential\n",
        "from tensorflow.keras.layers import Dense, Flatten\n",
        "from tensorflow.keras.utils import to_categorical"
      ]
    },
    {
      "cell_type": "code",
      "source": [
        "df = fashion_mnist.load_data()"
      ],
      "metadata": {
        "colab": {
          "base_uri": "https://localhost:8080/"
        },
        "id": "OAzAF-w4bqqT",
        "outputId": "da58474a-5714-435a-b6e1-16aca1b2eb23"
      },
      "execution_count": 2,
      "outputs": [
        {
          "output_type": "stream",
          "name": "stdout",
          "text": [
            "Downloading data from https://storage.googleapis.com/tensorflow/tf-keras-datasets/train-labels-idx1-ubyte.gz\n",
            "29515/29515 [==============================] - 0s 0us/step\n",
            "Downloading data from https://storage.googleapis.com/tensorflow/tf-keras-datasets/train-images-idx3-ubyte.gz\n",
            "26421880/26421880 [==============================] - 0s 0us/step\n",
            "Downloading data from https://storage.googleapis.com/tensorflow/tf-keras-datasets/t10k-labels-idx1-ubyte.gz\n",
            "5148/5148 [==============================] - 0s 0us/step\n",
            "Downloading data from https://storage.googleapis.com/tensorflow/tf-keras-datasets/t10k-images-idx3-ubyte.gz\n",
            "4422102/4422102 [==============================] - 0s 0us/step\n"
          ]
        }
      ]
    },
    {
      "cell_type": "code",
      "source": [
        "(X_train, y_train), (X_test, y_test)  = df"
      ],
      "metadata": {
        "id": "4AGpPUfDb3XS"
      },
      "execution_count": 3,
      "outputs": []
    },
    {
      "cell_type": "code",
      "source": [
        "print(type(X_train))\n",
        "print(type(X_test))\n",
        "print(type(y_train))\n",
        "print(type(y_test))"
      ],
      "metadata": {
        "colab": {
          "base_uri": "https://localhost:8080/"
        },
        "id": "aAQW_40Ab3wE",
        "outputId": "b6f3516d-4bb0-449f-ae6b-ac6a2841729e"
      },
      "execution_count": 4,
      "outputs": [
        {
          "output_type": "stream",
          "name": "stdout",
          "text": [
            "<class 'numpy.ndarray'>\n",
            "<class 'numpy.ndarray'>\n",
            "<class 'numpy.ndarray'>\n",
            "<class 'numpy.ndarray'>\n"
          ]
        }
      ]
    },
    {
      "cell_type": "code",
      "source": [
        "print(X_train.shape)\n",
        "print(X_test.shape)\n",
        "print(y_train.shape)\n",
        "print(y_test.shape)"
      ],
      "metadata": {
        "colab": {
          "base_uri": "https://localhost:8080/"
        },
        "id": "YbdLEw7ncUku",
        "outputId": "e3fe8372-5681-4529-fcfc-39827f067212"
      },
      "execution_count": 5,
      "outputs": [
        {
          "output_type": "stream",
          "name": "stdout",
          "text": [
            "(60000, 28, 28)\n",
            "(10000, 28, 28)\n",
            "(60000,)\n",
            "(10000,)\n"
          ]
        }
      ]
    },
    {
      "cell_type": "code",
      "source": [
        "y_train"
      ],
      "metadata": {
        "colab": {
          "base_uri": "https://localhost:8080/"
        },
        "id": "SQYFXKbRccry",
        "outputId": "00f17729-e17c-401d-8dd0-5d7e261d11e4"
      },
      "execution_count": 6,
      "outputs": [
        {
          "output_type": "execute_result",
          "data": {
            "text/plain": [
              "array([9, 0, 0, ..., 3, 0, 5], dtype=uint8)"
            ]
          },
          "metadata": {},
          "execution_count": 6
        }
      ]
    },
    {
      "cell_type": "markdown",
      "source": [
        "View Row Images\n",
        "\n",
        "Since images are now numpy array, You can not plot that as charts,\n"
      ],
      "metadata": {
        "id": "5rJ_hDklJa5p"
      }
    },
    {
      "cell_type": "code",
      "source": [
        "import matplotlib.pyplot as plt"
      ],
      "metadata": {
        "id": "QSTc62zlce_B"
      },
      "execution_count": 7,
      "outputs": []
    },
    {
      "cell_type": "code",
      "source": [
        "plt.figure(figsize=[10,6])\n",
        "\n",
        "imageIndex = 10\n",
        "\n",
        "# Plot image from train set\n",
        "plt.subplot(1,2,1)\n",
        "\n",
        "plt.imshow(X_train[imageIndex,:,:])\n",
        "plt.title(y_train[imageIndex])\n",
        "\n",
        "# Plot a image from test set\n",
        "plt.subplot(1,2,2)\n",
        "plt.imshow(X_test[imageIndex,:,:])\n",
        "plt.title(y_test[imageIndex])\n",
        "\n",
        "plt.show()"
      ],
      "metadata": {
        "colab": {
          "base_uri": "https://localhost:8080/",
          "height": 435
        },
        "id": "lea6G3k3J7Bs",
        "outputId": "1f175ba1-a2f5-46c4-9405-fdf27c745df4"
      },
      "execution_count": 8,
      "outputs": [
        {
          "output_type": "display_data",
          "data": {
            "text/plain": [
              "<Figure size 1000x600 with 2 Axes>"
            ],
            "image/png": "[encoded data removed]"
          },
          "metadata": {}
        }
      ]
    },
    {
      "cell_type": "code",
      "source": [
        "plt.subplot"
      ],
      "metadata": {
        "id": "mDrif07mKsHS",
        "colab": {
          "base_uri": "https://localhost:8080/"
        },
        "outputId": "5858f0b4-c887-494e-d127-1a4e48560817"
      },
      "execution_count": 9,
      "outputs": [
        {
          "output_type": "execute_result",
          "data": {
            "text/plain": [
              "<function matplotlib.pyplot.subplot(*args, **kwargs)>"
            ]
          },
          "metadata": {},
          "execution_count": 9
        }
      ]
    }
  ]
}