{
  "nbformat": 4,
  "nbformat_minor": 0,
  "metadata": {
    "colab": {
      "provenance": []
    },
    "kernelspec": {
      "name": "python3",
      "display_name": "Python 3"
    },
    "language_info": {
      "name": "python"
    }
  },
  "cells": [
    {
      "cell_type": "markdown",
      "source": [
        "1. Write a python program to find those numbers which are divisible by 7 and multiples of 5,\n"
      ],
      "metadata": {
        "id": "MWGLPkikYd3X"
      }
    },
    {
      "cell_type": "code",
      "source": [
        "user_input = int(input(\"Enter a number : \"));\n",
        "\n",
        "if user_input % 35 == 0:\n",
        "  print(f'The {user_input} is a multiple of 7 and 5')\n",
        "else:\n",
        "  print(f'Oh the number {user_input} is not a multiple of either 7 or 5')"
      ],
      "metadata": {
        "colab": {
          "base_uri": "https://localhost:8080/"
        },
        "id": "Vpq5luIOYkgS",
        "outputId": "7374fabc-5b05-401c-fe9e-5c26e0eb73c7"
      },
      "execution_count": 3,
      "outputs": [
        {
          "output_type": "stream",
          "name": "stdout",
          "text": [
            "Enter a number : 56\n",
            "Oh the number 56 is not a multiple of either 7 or 5\n"
          ]
        }
      ]
    },
    {
      "cell_type": "markdown",
      "source": [
        "for user input.\n",
        "2. Write a python program to check the user input is even or odd or zero.\n"
      ],
      "metadata": {
        "id": "fL6jUMPXYexp"
      }
    },
    {
      "cell_type": "code",
      "source": [
        "user_input = int(input(\"Enter a number : \"));\n",
        "\n",
        "if user_input % 2 == 0:\n",
        "  print(\"{} is a even number\".format(user_input))\n",
        "else:\n",
        "  print(\"{} is an odd number\".format(user_input))"
      ],
      "metadata": {
        "colab": {
          "base_uri": "https://localhost:8080/"
        },
        "id": "DHdDzp_qYk40",
        "outputId": "847308a4-7b96-4df8-8cac-17f5ca788ff9"
      },
      "execution_count": 4,
      "outputs": [
        {
          "output_type": "stream",
          "name": "stdout",
          "text": [
            "Enter a number : 23\n",
            "23 is an odd number\n"
          ]
        }
      ]
    },
    {
      "cell_type": "markdown",
      "source": [
        "3. Print decimal part of an input number. If the decimal part is zero print the string : “INTEGER”\n"
      ],
      "metadata": {
        "id": "7vDbk4rLYfIX"
      }
    },
    {
      "cell_type": "code",
      "source": [
        "floatInput = float(input(\"Enter a decimal number : \"))\n",
        "\n",
        "\n",
        "decimalPart = floatInput % 1\n",
        "\n",
        "if decimalPart == 0:\n",
        "  print(\"INTEGER\")\n",
        "else:\n",
        "  print(decimalPart)"
      ],
      "metadata": {
        "colab": {
          "base_uri": "https://localhost:8080/"
        },
        "id": "anai_6bkYlHm",
        "outputId": "525f9425-c420-4418-f10b-967eb91bf07b"
      },
      "execution_count": 5,
      "outputs": [
        {
          "output_type": "stream",
          "name": "stdout",
          "text": [
            "Enter a decimal number : 63\n",
            "INTEGER\n"
          ]
        }
      ]
    }
  ]
}