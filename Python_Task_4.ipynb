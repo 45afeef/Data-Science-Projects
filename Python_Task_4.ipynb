{
  "nbformat": 4,
  "nbformat_minor": 0,
  "metadata": {
    "colab": {
      "provenance": [],
      "toc_visible": true
    },
    "kernelspec": {
      "name": "python3",
      "display_name": "Python 3"
    },
    "language_info": {
      "name": "python"
    }
  },
  "cells": [
    {
      "cell_type": "markdown",
      "source": [
        "## Exercise 1: Create a function with a default argument\n",
        "Write a program to create a function show_employee() using the following conditions.\n",
        "It should accept the employee’s name and salary and display both.\n",
        "If the salary is missing in the function call then assign default value 9000 to salary\n",
        "Given:\n",
        "showEmployee(\"Ben\", 12000)\n",
        "showEmployee(\"Jessa\")\n",
        "Expected output:\n",
        "Name: Ben salary: 12000\n",
        "Name: Jessa salary: 9000\n"
      ],
      "metadata": {
        "id": "JiBDngXhNVHn"
      }
    },
    {
      "cell_type": "code",
      "execution_count": 1,
      "metadata": {
        "colab": {
          "base_uri": "https://localhost:8080/"
        },
        "id": "x-sDreQrM_50",
        "outputId": "42af7199-7769-4012-d477-fb032fe68f88"
      },
      "outputs": [
        {
          "output_type": "stream",
          "name": "stdout",
          "text": [
            "Name: Afeef, Salary: 36000000\n",
            "Name: Arathi, Salary: 72000000\n",
            "Name: Jessa, Salary: 9000\n"
          ]
        }
      ],
      "source": [
        "def show_employee(name,sallary=9000):\n",
        "  output = \"Name: {}, Salary: {}\".format(name,sallary)\n",
        "  return output\n",
        "\n",
        "print(show_employee('Afeef',36000000))\n",
        "print(show_employee('Arathi',72000000))\n",
        "print(show_employee('Jessa'))\n"
      ]
    },
    {
      "cell_type": "markdown",
      "source": [
        "## Exercise 2: Create an inner function to calculate the addition in the following way\n",
        "Create an outer function that will accept two parameters, a and b\n",
        "Create an inner function inside an outer function that will calculate the addition of a and b\n",
        "At last, an outer function will add 5 into addition and return it\n"
      ],
      "metadata": {
        "id": "crqJn36bNUx0"
      }
    },
    {
      "cell_type": "code",
      "source": [
        "def outer(a,b):\n",
        "  def inner():\n",
        "    return a + b\n",
        "\n",
        "  return inner()+5\n",
        "\n",
        "\n",
        "# Test the program\n",
        "print(outer(2,6))"
      ],
      "metadata": {
        "colab": {
          "base_uri": "https://localhost:8080/"
        },
        "id": "i8o8LAacNUpd",
        "outputId": "303c2516-2f20-4f94-af9a-2676661d6d9d"
      },
      "execution_count": 2,
      "outputs": [
        {
          "output_type": "stream",
          "name": "stdout",
          "text": [
            "13\n"
          ]
        }
      ]
    },
    {
      "cell_type": "markdown",
      "source": [
        "## Exercise 3: Generate a Python list of all the even numbers between 4 to 30\n"
      ],
      "metadata": {
        "id": "eqJ-KnEoNUhs"
      }
    },
    {
      "cell_type": "code",
      "source": [
        "def generateEvenNums(start=0,end=100):\n",
        "  start = int((start+1)//2*2)\n",
        "  l = [a  for a in range(start,end+1,2)]\n",
        "  return l\n",
        "\n",
        "print(generateEvenNums(4,30))"
      ],
      "metadata": {
        "colab": {
          "base_uri": "https://localhost:8080/"
        },
        "id": "ADTwU8LtNUaE",
        "outputId": "9dacddb4-9090-4479-9b5a-1a5abf648880"
      },
      "execution_count": 3,
      "outputs": [
        {
          "output_type": "stream",
          "name": "stdout",
          "text": [
            "[4, 6, 8, 10, 12, 14, 16, 18, 20, 22, 24, 26, 28, 30]\n"
          ]
        }
      ]
    },
    {
      "cell_type": "markdown",
      "source": [
        "## Exercise 4: Lambda Function to Check if value is in a List\n",
        "Given a list, the task is to write a Python program to check if the value exists in the list or not using the lambda function.\n",
        "\n",
        "\n",
        "Input  : L = [1, 2, 3, 4, 5]\n",
        "          element = 4\n",
        "Output :  Element is Present in the list\n",
        "\n",
        "Input :  L = [1, 2, 3, 4, 5]\n",
        "          element = 8\n",
        "Output :  Element is NOT Present in the list\n",
        "\n"
      ],
      "metadata": {
        "id": "tnENvcgUNUSA"
      }
    },
    {
      "cell_type": "code",
      "source": [
        "isInList = lambda x,l:x in l\n",
        "\n",
        "listOfNums = [1,2,3,4,5,6,7,8]\n",
        "\n",
        "if isInList(52,listOfNums):\n",
        "  print(\"Element is Present in the list\")\n",
        "else:\n",
        "  print(\"Element is NOT Present in the list\")\n"
      ],
      "metadata": {
        "colab": {
          "base_uri": "https://localhost:8080/"
        },
        "id": "kXbyb7s-NUKv",
        "outputId": "38a5cb99-a81b-4ace-bab2-711be78295c4"
      },
      "execution_count": 4,
      "outputs": [
        {
          "output_type": "stream",
          "name": "stdout",
          "text": [
            "Element is NOT Present in the list\n"
          ]
        }
      ]
    },
    {
      "cell_type": "markdown",
      "source": [
        "## Exercise 5: Sort list of tuples with their sum\n",
        "Sort the points based on their sum of elements in the tuples\n",
        "\n",
        "points = [(1, 2), (5, 3), (0, 7), (3, 1)]\n"
      ],
      "metadata": {
        "id": "EXt1stkbNUCl"
      }
    },
    {
      "cell_type": "code",
      "source": [
        "points = [(1,2),(5,3),(0,7),(3,1)]\n",
        "\n",
        "sorted(points,key=lambda x:x[0]+x[1])\n"
      ],
      "metadata": {
        "colab": {
          "base_uri": "https://localhost:8080/"
        },
        "id": "0c4321a0NT7G",
        "outputId": "e635bf65-4026-400a-db03-f81c370afed7"
      },
      "execution_count": 5,
      "outputs": [
        {
          "output_type": "execute_result",
          "data": {
            "text/plain": [
              "[(1, 2), (3, 1), (0, 7), (5, 3)]"
            ]
          },
          "metadata": {},
          "execution_count": 5
        }
      ]
    },
    {
      "cell_type": "markdown",
      "source": [
        "## Exercise 6 :\n",
        "Write a python function, which will find all such numbers between 1000 and 3000 (both included) such that each digit of the number is an even number. Return the results as a list\n",
        "\n"
      ],
      "metadata": {
        "id": "yoEzEpF-NTy9"
      }
    },
    {
      "cell_type": "code",
      "source": [
        "def getAllEvenDigitNumbers(start,end):\n",
        "  return [n for n in range(start,end+1) if not any(map(lambda x: str(x) in str(n) , [1,3,5,7,9]))]\n",
        "\n",
        "getAllEvenDigitNumbers(1000,3000)"
      ],
      "metadata": {
        "colab": {
          "base_uri": "https://localhost:8080/"
        },
        "id": "_QAUgTotNTrV",
        "outputId": "f5685ab8-7f29-4818-947c-7ed7bad101b2"
      },
      "execution_count": 6,
      "outputs": [
        {
          "output_type": "execute_result",
          "data": {
            "text/plain": [
              "[2000,\n",
              " 2002,\n",
              " 2004,\n",
              " 2006,\n",
              " 2008,\n",
              " 2020,\n",
              " 2022,\n",
              " 2024,\n",
              " 2026,\n",
              " 2028,\n",
              " 2040,\n",
              " 2042,\n",
              " 2044,\n",
              " 2046,\n",
              " 2048,\n",
              " 2060,\n",
              " 2062,\n",
              " 2064,\n",
              " 2066,\n",
              " 2068,\n",
              " 2080,\n",
              " 2082,\n",
              " 2084,\n",
              " 2086,\n",
              " 2088,\n",
              " 2200,\n",
              " 2202,\n",
              " 2204,\n",
              " 2206,\n",
              " 2208,\n",
              " 2220,\n",
              " 2222,\n",
              " 2224,\n",
              " 2226,\n",
              " 2228,\n",
              " 2240,\n",
              " 2242,\n",
              " 2244,\n",
              " 2246,\n",
              " 2248,\n",
              " 2260,\n",
              " 2262,\n",
              " 2264,\n",
              " 2266,\n",
              " 2268,\n",
              " 2280,\n",
              " 2282,\n",
              " 2284,\n",
              " 2286,\n",
              " 2288,\n",
              " 2400,\n",
              " 2402,\n",
              " 2404,\n",
              " 2406,\n",
              " 2408,\n",
              " 2420,\n",
              " 2422,\n",
              " 2424,\n",
              " 2426,\n",
              " 2428,\n",
              " 2440,\n",
              " 2442,\n",
              " 2444,\n",
              " 2446,\n",
              " 2448,\n",
              " 2460,\n",
              " 2462,\n",
              " 2464,\n",
              " 2466,\n",
              " 2468,\n",
              " 2480,\n",
              " 2482,\n",
              " 2484,\n",
              " 2486,\n",
              " 2488,\n",
              " 2600,\n",
              " 2602,\n",
              " 2604,\n",
              " 2606,\n",
              " 2608,\n",
              " 2620,\n",
              " 2622,\n",
              " 2624,\n",
              " 2626,\n",
              " 2628,\n",
              " 2640,\n",
              " 2642,\n",
              " 2644,\n",
              " 2646,\n",
              " 2648,\n",
              " 2660,\n",
              " 2662,\n",
              " 2664,\n",
              " 2666,\n",
              " 2668,\n",
              " 2680,\n",
              " 2682,\n",
              " 2684,\n",
              " 2686,\n",
              " 2688,\n",
              " 2800,\n",
              " 2802,\n",
              " 2804,\n",
              " 2806,\n",
              " 2808,\n",
              " 2820,\n",
              " 2822,\n",
              " 2824,\n",
              " 2826,\n",
              " 2828,\n",
              " 2840,\n",
              " 2842,\n",
              " 2844,\n",
              " 2846,\n",
              " 2848,\n",
              " 2860,\n",
              " 2862,\n",
              " 2864,\n",
              " 2866,\n",
              " 2868,\n",
              " 2880,\n",
              " 2882,\n",
              " 2884,\n",
              " 2886,\n",
              " 2888]"
            ]
          },
          "metadata": {},
          "execution_count": 6
        }
      ]
    },
    {
      "cell_type": "markdown",
      "source": [
        "## Exercise 7 :\n",
        "Write a python function that accepts a sentence and calculate and return the number of letters and digits.\n",
        "Suppose the following input is supplied to the program:\n",
        "hello world! 123\n",
        "Then, the output should be:\n",
        "LETTERS 10\n",
        "DIGITS 3\n"
      ],
      "metadata": {
        "id": "5a2Hr_lxNTh7"
      }
    },
    {
      "cell_type": "code",
      "source": [
        "def calculateLettersAndDigits(s):\n",
        "  letter_count = 0\n",
        "  digit_count = 0\n",
        "\n",
        "  for c in s:\n",
        "    if c.isalpha():\n",
        "      letter_count += 1\n",
        "    if c.isdigit():\n",
        "      digit_count += 1\n",
        "\n",
        "  return \"LETTERS {}, DIGITS {}\".format(letter_count,digit_count)\n",
        "\n",
        "print(calculateLettersAndDigits('hello world! 123'))"
      ],
      "metadata": {
        "colab": {
          "base_uri": "https://localhost:8080/"
        },
        "id": "cFPc_gLHNTau",
        "outputId": "a4970a1b-a8db-41fc-9593-4f21427afdf9"
      },
      "execution_count": 7,
      "outputs": [
        {
          "output_type": "stream",
          "name": "stdout",
          "text": [
            "LETTERS 10, DIGITS 3\n"
          ]
        }
      ]
    },
    {
      "cell_type": "markdown",
      "source": [
        "## Exercise 8  MAP:\n",
        "Write a Python program to convert all the characters into uppercase and lowercase and eliminate duplicate letters from a given sequence. Use the map() function\n"
      ],
      "metadata": {
        "id": "Vxw_K7V4NTRd"
      }
    },
    {
      "cell_type": "code",
      "source": [
        "def eliminateDuplicateAndTransform(sentence,toCase):\n",
        "  # Eliminate the duplicate letters\n",
        "  new_string = ''\n",
        "\n",
        "  for char in sentence:\n",
        "    if char not in new_string:\n",
        "      new_string += char\n",
        "\n",
        "  # Transfrom the sequence based of the case provided\n",
        "  if toCase == \"UPPER\":\n",
        "    return new_string.upper()\n",
        "  elif toCase == \"LOWER\":\n",
        "    return new_string.lower()\n",
        "  else:\n",
        "    return new_string.capitalize()\n",
        "\n",
        "\n",
        "eliminateDuplicateAndTransform('orunal oruthan vannath kanduvo?','LOWERs')\n",
        "\n",
        "\n",
        "\n",
        "## Using map function\n",
        "def transform_and_deduplicate(sequence):\n",
        "  \"\"\"\n",
        "  Converts characters to uppercase and lowercase, eliminates duplicates, and preserves order.\n",
        "\n",
        "  Args:\n",
        "    sequence: The input sequence of characters.\n",
        "\n",
        "  Returns:\n",
        "    A list containing the transformed and deduplicated characters in their original order.\n",
        "  \"\"\"\n",
        "\n",
        "  unique_chars = set()\n",
        "  transformed_chars = []\n",
        "\n",
        "  for char in sequence:\n",
        "    uppercase = char.upper()  # Convert to uppercase\n",
        "    lowercase = char.lower()  # Convert to lowercase\n",
        "\n",
        "    for transformed_char in (uppercase, lowercase):\n",
        "      if transformed_char not in unique_chars:  # Check for duplicates\n",
        "        unique_chars.add(transformed_char)\n",
        "        transformed_chars.append(transformed_char)\n",
        "\n",
        "  return transformed_chars\n",
        "\n",
        "# Example usage\n",
        "sequence = \"Hello, WoRlD!\"\n",
        "result = list(map(transform_and_deduplicate, sequence))  # Apply to each character\n",
        "print(\"\".join(\"\".join(r) for r in result))  # Output: hHeLlLoOo,WwOoRrLlDd!\n",
        "\n",
        "\n"
      ],
      "metadata": {
        "colab": {
          "base_uri": "https://localhost:8080/"
        },
        "id": "5HlRXWDGNTIs",
        "outputId": "4d385ac7-ebe7-4a4a-d8aa-8585e0444ea7"
      },
      "execution_count": 8,
      "outputs": [
        {
          "output_type": "stream",
          "name": "stdout",
          "text": [
            "HhEeLlLlOo, WwOoRrLlDd!\n"
          ]
        }
      ]
    },
    {
      "cell_type": "markdown",
      "source": [
        "## Exercise 9 MAP:\n",
        " Write a Python program to element wise add two given lists and find the difference between them. Use the map() function\n"
      ],
      "metadata": {
        "id": "VTdj7w9dNS9-"
      }
    },
    {
      "cell_type": "code",
      "source": [
        "list_one = [2,34,21,3,5,123,42,413,23,89]\n",
        "list_two = [234,25,2,32,342,5,234,234,23,4]\n",
        "\n",
        "\n",
        "\n",
        "def sumAndDiff(a):\n",
        "  return (a[0]+a[1],abs(a[0]-a[1]))\n",
        "\n",
        "\n",
        "listOfSumsAndDiffs = list(map(sumAndDiff,zip(list_one,list_two)))\n",
        "\n",
        "print(listOfSumsAndDiffs)\n",
        "\n",
        "\n",
        "# Another way\n",
        "\n",
        "def element_wise_operation(list1,list2):\n",
        "  sums = list(map(lambda x,y:x+y, list1,list2))\n",
        "  diffs = list(map(lambda x,y:x-y, list1,list2))\n",
        "\n",
        "  return sums,diffs\n",
        "\n",
        "\n",
        "list1 = [1,2,4,2,1,4]\n",
        "list2 = [13,23,21,43,23,45]\n",
        "\n",
        "sums,diffs = element_wise_operation(list1,list2)\n",
        "\n",
        "print(f\"Sum of two lists are : {sums}\")\n",
        "print(f\"Difference of two lists are : {diffs}\")"
      ],
      "metadata": {
        "colab": {
          "base_uri": "https://localhost:8080/"
        },
        "id": "jQBWD4XMNS2c",
        "outputId": "a1e52b33-c77e-47ac-dfb0-b7156d706f85"
      },
      "execution_count": 9,
      "outputs": [
        {
          "output_type": "stream",
          "name": "stdout",
          "text": [
            "[(236, 232), (59, 9), (23, 19), (35, 29), (347, 337), (128, 118), (276, 192), (647, 179), (46, 0), (93, 85)]\n",
            "Sum of two lists are : [14, 25, 25, 45, 24, 49]\n",
            "Difference of two lists are : [-12, -21, -17, -41, -22, -41]\n"
          ]
        }
      ]
    },
    {
      "cell_type": "markdown",
      "source": [
        "## Exercise 10 Filter:\n",
        "Write a Python program to filter the height and weight of students, which are stored in a dictionary using lambda.\n",
        "Original Dictionary:\n",
        "{'Cierra Vega': (6.2, 71), 'Alden Cantrell': (5.9, 65), 'Kierra Gentry': (6.0, 68), 'Pierre Cox': (5.8, 66)}\n",
        "Height> 6ft and Weight> 70kg:\n",
        "{'Cierra Vega': (6.2, 71)}\n"
      ],
      "metadata": {
        "id": "Rhis4ZzJNSu-"
      }
    },
    {
      "cell_type": "code",
      "source": [
        "peoples_height_and_weight = {\n",
        "    'Cierra Vega': (6.2, 71),\n",
        "    'Alden Cantrell': (5.9, 65),\n",
        "    'Kierra Gentry': (6.0, 68),\n",
        "    'Pierre Cox': (5.8, 66)\n",
        "}\n",
        "\n",
        "# Height> 6ft and Weight> 70kg: {'Cierra Vega': (6.2, 71)}\n",
        "\n",
        "height_threshold = 6.0\n",
        "weight_threshold = 70\n",
        "\n",
        "\n",
        "filteredPersons = dict(filter(lambda x:x[1][0]>height_threshold and x[1][1] > weight_threshold,peoples_height_and_weight.items()))\n",
        "\n",
        "print(filteredPersons)\n",
        "\n"
      ],
      "metadata": {
        "colab": {
          "base_uri": "https://localhost:8080/"
        },
        "id": "wsJBk_HrNSoY",
        "outputId": "24fa8be8-c2cb-49dc-ef35-ed4bc5e91108"
      },
      "execution_count": 10,
      "outputs": [
        {
          "output_type": "stream",
          "name": "stdout",
          "text": [
            "{'Cierra Vega': (6.2, 71)}\n"
          ]
        }
      ]
    },
    {
      "cell_type": "markdown",
      "source": [
        "## Exercise 11 Filter:\n",
        "Write a Python program to remove all elements from a given list present in another list using lambda.\n",
        "Original lists:\n",
        "list1: [1, 2, 3, 4, 5, 6, 7, 8, 9, 10]\n",
        "list2: [2, 4, 6, 8]\n",
        "Remove all elements from 'list1' present in 'list2:\n",
        "[1, 3, 5, 7, 9, 10]\n",
        "\n"
      ],
      "metadata": {
        "id": "EX7bv1W7NSd_"
      }
    },
    {
      "cell_type": "code",
      "source": [
        "list1 = [1, 2, 3, 4, 5, 6, 7, 8, 9, 10]\n",
        "list2 = [2, 4, 6, 8]\n",
        "\n",
        "filteredList = list(filter(lambda x:x not in list2,list1))\n",
        "\n",
        "filteredList"
      ],
      "metadata": {
        "colab": {
          "base_uri": "https://localhost:8080/"
        },
        "id": "crxtEOMkNSXu",
        "outputId": "fb83ee5d-45db-4fc8-acba-8b45bd76de49"
      },
      "execution_count": 11,
      "outputs": [
        {
          "output_type": "execute_result",
          "data": {
            "text/plain": [
              "[1, 3, 5, 7, 9, 10]"
            ]
          },
          "metadata": {},
          "execution_count": 11
        }
      ]
    },
    {
      "cell_type": "markdown",
      "source": [
        "## Exercise 12 Reduce:\n",
        "\n",
        "\n",
        "Write a Python program to calculate the product of a given list of numbers using lambda.\n",
        "list1: [1, 2, 3, 4, 5, 6, 7, 8, 9, 10]\n",
        "Product of the said list numbers:\n",
        "3628800\n",
        "\n",
        "\n"
      ],
      "metadata": {
        "id": "GRvtgcsgNSQc"
      }
    },
    {
      "cell_type": "code",
      "source": [
        "from functools import reduce\n",
        "\n",
        "list1 = [1, 2, 3, 4, 5, 6, 7, 8, 9, 10]\n",
        "# Product of the said list numbers: 3628800\n",
        "\n",
        "productOfList = reduce(lambda a,b:a*b,list1)\n",
        "\n",
        "productOfList"
      ],
      "metadata": {
        "colab": {
          "base_uri": "https://localhost:8080/"
        },
        "id": "qD46LiXbNSJc",
        "outputId": "d13f38a2-6b45-404e-c48e-0c7723b13e44"
      },
      "execution_count": 12,
      "outputs": [
        {
          "output_type": "execute_result",
          "data": {
            "text/plain": [
              "3628800"
            ]
          },
          "metadata": {},
          "execution_count": 12
        }
      ]
    },
    {
      "cell_type": "markdown",
      "source": [
        "## Exercise 13 Reduce:\n",
        "\n",
        "\n",
        " Write a Python program to multiply all the numbers in a given list using lambda.\n",
        "Original list:\n",
        "[4, 3, 2, 2, -1, 18]\n",
        "Mmultiply all the numbers of the said list: -864\n",
        "\n",
        "\n"
      ],
      "metadata": {
        "id": "k5Tq5NICNR-l"
      }
    },
    {
      "cell_type": "code",
      "source": [
        "listq = [4,3,2,2,-1,18]\n",
        "\n",
        "product = reduce(lambda a,b:a*b, listq)\n",
        "\n",
        "product"
      ],
      "metadata": {
        "colab": {
          "base_uri": "https://localhost:8080/"
        },
        "id": "HorNuHO9NR3v",
        "outputId": "e55bcf46-d171-4d4d-cb42-9609643b53b1"
      },
      "execution_count": 13,
      "outputs": [
        {
          "output_type": "execute_result",
          "data": {
            "text/plain": [
              "-864"
            ]
          },
          "metadata": {},
          "execution_count": 13
        }
      ]
    },
    {
      "cell_type": "markdown",
      "source": [
        "## Exercise 14 Reduce:\n",
        "\n",
        "\n",
        "Write a Python program to calculate the average value of the numbers in a given tuple of tuples using lambda.\n",
        "Original Tuple:\n",
        "((10, 10, 10), (30, 45, 56), (81, 80, 39), (1, 2, 3))\n",
        "Average value of the numbers of the said tuple of tuples:\n",
        "(30.5, 34.25, 27.0)\n",
        "\n",
        "\n"
      ],
      "metadata": {
        "id": "Wbr3Y1DDNRv2"
      }
    },
    {
      "cell_type": "code",
      "source": [
        "tuple_of_tuples =  ((10, 10, 10), (30, 45, 56), (81, 80, 39), (1, 2, 3))\n",
        "\n",
        "transposed = list(zip(*tuple_of_tuples))\n",
        "\n",
        "averages = tuple(\n",
        "    map(lambda x:reduce(lambda a,b : a+b,x)/len(x),transposed)\n",
        ")\n",
        "\n",
        "averages"
      ],
      "metadata": {
        "colab": {
          "base_uri": "https://localhost:8080/"
        },
        "id": "XLnddz2-NRi2",
        "outputId": "48f42d3f-9693-4d6b-deed-7a865e2b2eea"
      },
      "execution_count": 14,
      "outputs": [
        {
          "output_type": "execute_result",
          "data": {
            "text/plain": [
              "(30.5, 34.25, 27.0)"
            ]
          },
          "metadata": {},
          "execution_count": 14
        }
      ]
    },
    {
      "cell_type": "markdown",
      "source": [
        "## Exercise 15:\n",
        "\n",
        "\n",
        "Write a Python program to sort a given mixed list of integers and strings using lambda. Numbers must be sorted before strings.\n",
        "Original list:\n",
        "[19, 'red', 12, 'green', 'blue', 10, 'white', 'green', 1]\n",
        "Sort the said mixed list of integers and strings:\n",
        "[1, 10, 12, 19, 'blue', 'green', 'green', 'red', 'white']\n"
      ],
      "metadata": {
        "id": "txZQCT9DNRNe"
      }
    },
    {
      "cell_type": "code",
      "source": [
        "float('inf')"
      ],
      "metadata": {
        "colab": {
          "base_uri": "https://localhost:8080/"
        },
        "id": "7RGNs92641l9",
        "outputId": "bb7ea60e-ea6a-49a7-d275-ddce751b1a29"
      },
      "execution_count": 15,
      "outputs": [
        {
          "output_type": "execute_result",
          "data": {
            "text/plain": [
              "inf"
            ]
          },
          "metadata": {},
          "execution_count": 15
        }
      ]
    },
    {
      "cell_type": "code",
      "source": [
        "mixedList = [19, 'red', 12, 'green', 'blue', 10, 'white', 'green', 1]\n",
        "\n",
        "# Define a custom sorting key function\n",
        "def sort_key(item):\n",
        "    # print(float('inf'))\n",
        "    if isinstance(item, str):\n",
        "      return float('inf')  # Place strings after numbers\n",
        "    return item\n",
        "\n",
        "# Sort the list using the custom key function\n",
        "sorted_list = sorted(mixedList, key=sort_key)\n",
        "\n",
        "print(sorted_list)"
      ],
      "metadata": {
        "colab": {
          "base_uri": "https://localhost:8080/"
        },
        "id": "w6zlycZZNRC0",
        "outputId": "a85c2fef-88bf-41c8-b4d2-8ddd447b4e68"
      },
      "execution_count": 16,
      "outputs": [
        {
          "output_type": "stream",
          "name": "stdout",
          "text": [
            "[1, 10, 12, 19, 'red', 'green', 'blue', 'white', 'green']\n"
          ]
        }
      ]
    },
    {
      "cell_type": "markdown",
      "source": [
        "## Exercise 16:\n",
        "Write a Python program to count the occurrences of items in a given list using lambda.\n",
        "Original list:\n",
        "[3, 4, 5, 8, 0, 3, 8, 5, 0, 3, 1, 5, 2, 3, 4, 2]\n",
        "Count the occurrences of the items in the said list:\n",
        "{3: 4, 4: 2, 5: 3, 8: 2, 0: 2, 1: 1, 2: 2}\n",
        "\n",
        "\n",
        "\n",
        "\n"
      ],
      "metadata": {
        "id": "emyyoH8pNPFm"
      }
    },
    {
      "cell_type": "code",
      "source": [
        "list1 = [3, 4, 5, 8, 0, 3, 8, 5, 0, 3, 1, 5, 2, 3, 4, 2]\n",
        "\n",
        "\n",
        "count_dict = {x:list1.count(x) for x in list1}\n",
        "\n",
        "print(count_dict)\n",
        "\n",
        "# Using Lambda\n",
        "\n",
        "count = dict(map(lambda x:(x,list1.count(x)),set(list1)))\n",
        "print(count)"
      ],
      "metadata": {
        "colab": {
          "base_uri": "https://localhost:8080/"
        },
        "id": "i9wyjcLNNO_V",
        "outputId": "abe4e58f-7b96-420b-fa42-cb82eb3f493b"
      },
      "execution_count": 17,
      "outputs": [
        {
          "output_type": "stream",
          "name": "stdout",
          "text": [
            "{3: 4, 4: 2, 5: 3, 8: 2, 0: 2, 1: 1, 2: 2}\n",
            "{0: 2, 1: 1, 2: 2, 3: 4, 4: 2, 5: 3, 8: 2}\n"
          ]
        }
      ]
    },
    {
      "cell_type": "markdown",
      "source": [
        "## Exercise 17:\n",
        "\n",
        "\n",
        "Write a Python program to remove None values from a given list using the lambda function.\n",
        "Original list:\n",
        "[12, 0, None, 23, None, -55, 234, 89, None, 0, 6, -12]\n",
        "Remove None value from the said list:\n",
        "[12, 0, 23, -55, 234, 89, 0, 6, -12]\n",
        "\n",
        "\n",
        "\n",
        "\n",
        "\n",
        "\n",
        "\n",
        "\n",
        "\n",
        "\n"
      ],
      "metadata": {
        "id": "iB_mJXolNO4-"
      }
    },
    {
      "cell_type": "code",
      "source": [
        "list1 = [12, 0, None, 23, None, -55, 234, 89, None, 0, 6, -12]\n",
        "# Remove None value from the said list: [12, 0, 23, -55, 234, 89, 0, 6, -12]\n",
        "\n",
        "clearedList = list(filter(lambda x:x is not None,list1))\n",
        "\n",
        "print(clearedList)"
      ],
      "metadata": {
        "colab": {
          "base_uri": "https://localhost:8080/"
        },
        "id": "v019TZ8CNOxN",
        "outputId": "b33a10a5-0c73-4167-d7c8-6b6c3aa9bc06"
      },
      "execution_count": 18,
      "outputs": [
        {
          "output_type": "stream",
          "name": "stdout",
          "text": [
            "[12, 0, 23, -55, 234, 89, 0, 6, -12]\n"
          ]
        }
      ]
    }
  ]
}