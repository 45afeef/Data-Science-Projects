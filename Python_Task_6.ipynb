{
  "nbformat": 4,
  "nbformat_minor": 0,
  "metadata": {
    "colab": {
      "provenance": []
    },
    "kernelspec": {
      "name": "python3",
      "display_name": "Python 3"
    },
    "language_info": {
      "name": "python"
    }
  },
  "cells": [
    {
      "cell_type": "markdown",
      "source": [
        "1. Write a Python program to check that a string contains only a certain set of characters (in this case a-z, A-Z and 0-9).\n",
        "\n"
      ],
      "metadata": {
        "id": "fpQX9wBhb6ox"
      }
    },
    {
      "cell_type": "code",
      "source": [
        "import re"
      ],
      "metadata": {
        "id": "MZhipapFrNez"
      },
      "execution_count": 1,
      "outputs": []
    },
    {
      "cell_type": "code",
      "execution_count": 2,
      "metadata": {
        "id": "5HKhizIkbt59",
        "colab": {
          "base_uri": "https://localhost:8080/"
        },
        "outputId": "aeaa3615-878c-417d-c839-639428c7c514"
      },
      "outputs": [
        {
          "output_type": "stream",
          "name": "stdout",
          "text": [
            "True\n",
            "False\n",
            "False\n",
            "True\n",
            "True\n"
          ]
        }
      ],
      "source": [
        "def is_alpha_numeric(s):\n",
        "  alpha_numeric_regex = re.compile(r\"^[a-zA-Z0-9]+$\")\n",
        "  m = alpha_numeric_regex.match(s)\n",
        "  return not not m\n",
        "\n",
        "\n",
        "print(is_alpha_numeric('abccd134')) # True\n",
        "print(is_alpha_numeric('abccd13423:asd')) # False\n",
        "print(is_alpha_numeric('!@#23123')) # False\n",
        "print(is_alpha_numeric('23123')) # True\n",
        "print(is_alpha_numeric('abcd')) # True"
      ]
    },
    {
      "cell_type": "markdown",
      "source": [
        "2. Write a Python program that matches a string that has an a followed by zero or more b's.\n",
        "\n"
      ],
      "metadata": {
        "id": "rtdxRzltcRtS"
      }
    },
    {
      "cell_type": "code",
      "source": [
        "def followed_by_b(s):\n",
        "  pattern = r\"^a[b]*\\w+\"\n",
        "  m = re.match(pattern,s)\n",
        "  if m :\n",
        "    return m.string\n",
        "  else:\n",
        "    return None\n",
        "\n",
        "\n",
        "\n",
        "print(followed_by_b(\"afeef\"))\n",
        "print(followed_by_b(\"bsdcas\"))\n",
        "print(followed_by_b(\"bbbsadcov\"))\n",
        "print(followed_by_b(\"abbcafesd\"))\n",
        "print(followed_by_b(\"abbc\"))"
      ],
      "metadata": {
        "id": "ZjdCBYZAcZGl",
        "colab": {
          "base_uri": "https://localhost:8080/"
        },
        "outputId": "20bfd21e-c685-4532-aefd-91161534e9f8"
      },
      "execution_count": 3,
      "outputs": [
        {
          "output_type": "stream",
          "name": "stdout",
          "text": [
            "afeef\n",
            "None\n",
            "None\n",
            "abbcafesd\n",
            "abbc\n"
          ]
        }
      ]
    },
    {
      "cell_type": "markdown",
      "source": [
        "\n",
        "3. Replace only the first occurrence of 5 with five for the given string\n",
        "\n"
      ],
      "metadata": {
        "id": "kyvbz3eNcZri"
      }
    },
    {
      "cell_type": "code",
      "source": [
        "ip = 'They ate 5 apples and 5 oranges'\n",
        "\n",
        "re.sub(r\"5\",\"five\",ip,1)"
      ],
      "metadata": {
        "id": "pgZy45dxcqSg",
        "colab": {
          "base_uri": "https://localhost:8080/",
          "height": 36
        },
        "outputId": "e2d796eb-0ba7-499f-a344-f505eb9849fc"
      },
      "execution_count": 4,
      "outputs": [
        {
          "output_type": "execute_result",
          "data": {
            "text/plain": [
              "'They ate five apples and 5 oranges'"
            ],
            "application/vnd.google.colaboratory.intrinsic+json": {
              "type": "string"
            }
          },
          "metadata": {},
          "execution_count": 4
        }
      ]
    },
    {
      "cell_type": "markdown",
      "source": [
        "4. Write a Python program that matches a string that has an a followed by three 'b'.\n",
        "\n"
      ],
      "metadata": {
        "id": "h_b1-o6ncuzM"
      }
    },
    {
      "cell_type": "code",
      "source": [
        "def match_three_b(s):\n",
        "  pattern = r\"^bbb\\w+$\"\n",
        "  m = re.match(pattern,s)\n",
        "  if m:\n",
        "    return m.string\n",
        "  else:\n",
        "    return None\n",
        "\n",
        "print(match_three_b('afeef'))\n",
        "print(match_three_b('bafeef'))\n",
        "print(match_three_b('bbbmore'))\n",
        "print(match_three_b('bbbb'))\n"
      ],
      "metadata": {
        "id": "eWIRl3LccqwE",
        "colab": {
          "base_uri": "https://localhost:8080/"
        },
        "outputId": "6130995b-8a27-462d-a434-6ec9d026e80f"
      },
      "execution_count": 5,
      "outputs": [
        {
          "output_type": "stream",
          "name": "stdout",
          "text": [
            "None\n",
            "None\n",
            "bbbmore\n",
            "bbbb\n"
          ]
        }
      ]
    },
    {
      "cell_type": "markdown",
      "source": [
        "5. Write a Python program that matches a string that has an 'a' followed by anything ending in 'b'.\n",
        "\n"
      ],
      "metadata": {
        "id": "K2vPe01bc2LN"
      }
    },
    {
      "cell_type": "code",
      "source": [
        "\n",
        "def end_in_abs(s):\n",
        "  pattern = r\"^\\w*a.?b+$\"\n",
        "  m = re.match(pattern,s)\n",
        "  return m.string if m else None\n",
        "\n",
        "\n",
        "print(end_in_abs('afeef'))\n",
        "print(end_in_abs('afeefab'))\n",
        "print(end_in_abs('afeefa'))\n",
        "print(end_in_abs('afeefabbb'))\n",
        "print(end_in_abs('afeefabbbbbbbd'))\n"
      ],
      "metadata": {
        "id": "f8KfX59qc3UJ",
        "colab": {
          "base_uri": "https://localhost:8080/"
        },
        "outputId": "d83e3dc8-75ae-4c2d-9694-4f5514542042"
      },
      "execution_count": 6,
      "outputs": [
        {
          "output_type": "stream",
          "name": "stdout",
          "text": [
            "None\n",
            "afeefab\n",
            "None\n",
            "afeefabbb\n",
            "None\n"
          ]
        }
      ]
    },
    {
      "cell_type": "markdown",
      "source": [
        "6. Write a Python program to search for numbers (0-9) of length between 1 and 3 in a given string."
      ],
      "metadata": {
        "id": "NyL-DhqXdZi7"
      }
    },
    {
      "cell_type": "code",
      "source": [
        "re.finditer?"
      ],
      "metadata": {
        "id": "yFbavrnGKLAi"
      },
      "execution_count": 7,
      "outputs": []
    },
    {
      "cell_type": "code",
      "source": [
        "txt=\"Exercises number 1, 12, 13, and 345 are important 3345\"\n",
        "\n",
        "nums = re.findall(r\"\\d{1,3}\",txt)\n",
        "\n",
        "print(nums)"
      ],
      "metadata": {
        "id": "pWsu0HljdnKX",
        "colab": {
          "base_uri": "https://localhost:8080/"
        },
        "outputId": "67b30cd8-a629-47bb-c979-6dc9012a2f49"
      },
      "execution_count": 8,
      "outputs": [
        {
          "output_type": "stream",
          "name": "stdout",
          "text": [
            "['1', '12', '13', '345', '334', '5']\n"
          ]
        }
      ]
    },
    {
      "cell_type": "markdown",
      "source": [
        "7. Write a Python program to search for literal strings within a string.\\\n",
        "Sample text : 'The quick brown fox jumps over the lazy dog.' \\\n",
        "Searched words : 'fox', 'dog', 'horse'"
      ],
      "metadata": {
        "id": "aWaHWXFjdqy7"
      }
    },
    {
      "cell_type": "code",
      "source": [
        "txt = 'The quick brown fox jumps over the lazy dog.'\n",
        "\n",
        "patterns = ['fox','dog','horse']\n",
        "\n",
        "for p in patterns:\n",
        "    print('Searching for \"%s\" in \"%s\" -> ' % (p,txt))\n",
        "    m = re.search(p,txt)\n",
        "    if m:\n",
        "         print(\"Found\")\n",
        "    else:\n",
        "         print(\"Not found\")"
      ],
      "metadata": {
        "id": "bVAMeTMddnmf",
        "colab": {
          "base_uri": "https://localhost:8080/"
        },
        "outputId": "580b9409-b46f-4750-b9e1-a020f71c62ff"
      },
      "execution_count": 9,
      "outputs": [
        {
          "output_type": "stream",
          "name": "stdout",
          "text": [
            "Searching for \"fox\" in \"The quick brown fox jumps over the lazy dog.\" -> \n",
            "Found\n",
            "Searching for \"dog\" in \"The quick brown fox jumps over the lazy dog.\" -> \n",
            "Found\n",
            "Searching for \"horse\" in \"The quick brown fox jumps over the lazy dog.\" -> \n",
            "Not found\n"
          ]
        }
      ]
    },
    {
      "cell_type": "markdown",
      "source": [
        "8. Write a Python program to search for a literal string in a string and also find the location within the original string where the pattern occurs.\n",
        "\n",
        "Sample text : 'The quick brown fox jumps over the lazy dog.' \\\n",
        "Searched words : 'fox'"
      ],
      "metadata": {
        "id": "2cgZLc6Yd0sE"
      }
    },
    {
      "cell_type": "code",
      "source": [
        "txt = 'The quick brown fox jumps over the lazy dog'\n",
        "search = 'fox'\n",
        "\n",
        "s = re.search(search,txt)\n",
        "\n",
        "'%s is found between %d and %d in the string \"%s\"' % (search,*s.span(0),txt)\n"
      ],
      "metadata": {
        "id": "Tj1FCCx4d3zZ",
        "colab": {
          "base_uri": "https://localhost:8080/",
          "height": 36
        },
        "outputId": "dc264343-a54f-4939-c334-25ae8e64fdd4"
      },
      "execution_count": 10,
      "outputs": [
        {
          "output_type": "execute_result",
          "data": {
            "text/plain": [
              "'fox is found between 16 and 19 in the string \"The quick brown fox jumps over the lazy dog\"'"
            ],
            "application/vnd.google.colaboratory.intrinsic+json": {
              "type": "string"
            }
          },
          "metadata": {},
          "execution_count": 10
        }
      ]
    },
    {
      "cell_type": "markdown",
      "source": [
        "9.  Write a Python program to extract year, month and date from an URL"
      ],
      "metadata": {
        "id": "ixuwdsnvdtcP"
      }
    },
    {
      "cell_type": "code",
      "source": [
        "import re\n",
        "\n",
        "url1= \"https://www.washingtonpost.com/news/football-insider/wp/2016/09/02/odell-beckhams-fame-rests-on-one-stupid-little-ball-josh-norman-tells-author/\"\n",
        "\n",
        "pattern = re.compile(r'(\\d{4})\\/(\\d{2})\\/(\\d{2})')\n",
        "\n",
        "match = pattern.search(url1)\n",
        "\n",
        "if match:\n",
        "\n",
        "# for match in pattern.finditer(url1):\n",
        "  year = match.group(1)\n",
        "  month = match.group(2)\n",
        "  date = match.group(3)\n",
        "\n",
        "  print(\"Year : %s , Month : %s, Date : %s\" % (year,month,date))\n"
      ],
      "metadata": {
        "id": "uWA2_OfJeFpw",
        "colab": {
          "base_uri": "https://localhost:8080/"
        },
        "outputId": "1001b3f0-52d6-4ff1-8938-b1b84db1ba0b"
      },
      "execution_count": 11,
      "outputs": [
        {
          "output_type": "stream",
          "name": "stdout",
          "text": [
            "Year : 2016 , Month : 09, Date : 02\n"
          ]
        }
      ]
    },
    {
      "cell_type": "markdown",
      "source": [
        "10. Write a Python program to find URLs in a string.\n",
        "\n"
      ],
      "metadata": {
        "id": "Qdob8Ojkea-W"
      }
    },
    {
      "cell_type": "code",
      "source": [
        "text = '<p>Contents :</p><a href=\"https://w3resource.com\">Python Examples</a><a href=\"http://github.com\">Even More Examples</a>'\n",
        "\n",
        "pattern = re.compile(r\"https?://[a-z0-9_]+.[a-z]{3}\")\n",
        "\n",
        "matches = pattern.finditer(text)\n",
        "\n",
        "print(matches)\n",
        "for m in pattern.finditer(text):\n",
        "  print(m.group(0))\n"
      ],
      "metadata": {
        "id": "d9KUcdQEeIJu",
        "colab": {
          "base_uri": "https://localhost:8080/"
        },
        "outputId": "213bb0f4-5444-478e-e36f-87a47c5f7d8e"
      },
      "execution_count": 12,
      "outputs": [
        {
          "output_type": "stream",
          "name": "stdout",
          "text": [
            "<callable_iterator object at 0x78c0ebd675b0>\n",
            "https://w3resource.com\n",
            "http://github.com\n"
          ]
        }
      ]
    },
    {
      "cell_type": "markdown",
      "source": [
        "11. Write a Python program to remove the parenthesis area in a string.\\\n",
        "\n",
        "Sample data : [\"example (.com)\", \"w3resource\", \"github (.com)\", \"stackoverflow (.com)\"] \\\n",
        "Expected Output: \\\n",
        "example  \\\n",
        "w3resource \\\n",
        "github  \\\n",
        "stackoverflow. \\\n",
        "\n"
      ],
      "metadata": {
        "id": "5mX_cCEFepSi"
      }
    },
    {
      "cell_type": "code",
      "source": [
        "text_list =  [\"example (.com)\", \"w3resource\", \"github(.com)\", \"stackoverflow(.com)\"]\n",
        "\n",
        "# this pattern in working for this scenario\n",
        "# I'm not satisfied i need better one\n",
        "\n",
        "# pattern = re.compile(r'\\w+')\n",
        "# for txt in text_list:\n",
        "#   m = pattern.match(txt)\n",
        "#   print(m)\n",
        "\n",
        "\n",
        "# new way\n",
        "# This will defenitly remove anything in between paranthesis\n",
        "pattern = re.compile(r'(\\w+).*(\\(.*\\))?')\n",
        "for txt in text_list:\n",
        "  m = pattern.search(txt)\n",
        "  print(m.group(1))\n"
      ],
      "metadata": {
        "id": "CNYOSWfLee_M",
        "colab": {
          "base_uri": "https://localhost:8080/"
        },
        "outputId": "2d0d05c7-d3b3-471b-d93c-9103a9b86d48"
      },
      "execution_count": 13,
      "outputs": [
        {
          "output_type": "stream",
          "name": "stdout",
          "text": [
            "example\n",
            "w3resource\n",
            "github\n",
            "stackoverflow\n"
          ]
        }
      ]
    },
    {
      "cell_type": "markdown",
      "source": [
        "12. Write a Python program to concatenate the consecutive numbers in a given string. \\\n",
        "\n",
        "Original string:  \\\n",
        "Enter at 1 20 Kearny Street. The security desk can direct you to floor 1 6. Please have your identification ready.  \\\n",
        "\n",
        "After concatenating the consecutive numbers in the said string:  \\\n",
        "Enter at 120 Kearny Street. The security desk can direct you to floor 16. Please have your identification ready."
      ],
      "metadata": {
        "id": "sRhveFHXe7nz"
      }
    },
    {
      "cell_type": "code",
      "source": [
        "txt = 'Enter at 1 20 Kearny Street. The security desk can direct you to floor 1 6. Please have your identification ready.'\n",
        "\n",
        "pattern = r'( ?\\d+)+'\n",
        "\n",
        "# My solution\n",
        "def repl(m):\n",
        "  raw_num = m.group(0)\n",
        "  concatenated_num = raw_num.replace(\" \",\"\")\n",
        "  print(concatenated_num)\n",
        "  return f\" {concatenated_num}\"\n",
        "\n",
        "re.sub(pattern,repl,txt)\n",
        "\n",
        "\n",
        "# Better solution\n",
        "# txt = \"Enter at 1 20 Kearny Street. The security desk can direct you to floor 1 6. Please have your identification ready.\"\n",
        "\n",
        "# # positive lookbehind (?<=.....)\n",
        "# # positive lookahead (?=.....)\n",
        "# new_txt = re.sub(r\"(?<=\\d)\\s(?=\\d)\", '', txt)\n",
        "\n",
        "# print(new_txt)\n"
      ],
      "metadata": {
        "id": "4dcBL0RTe_zP",
        "colab": {
          "base_uri": "https://localhost:8080/",
          "height": 90
        },
        "outputId": "108d5903-8883-4178-a8e0-d18de6619f04"
      },
      "execution_count": 14,
      "outputs": [
        {
          "output_type": "stream",
          "name": "stdout",
          "text": [
            "120\n",
            "16\n"
          ]
        },
        {
          "output_type": "execute_result",
          "data": {
            "text/plain": [
              "'Enter at 120 Kearny Street. The security desk can direct you to floor 16. Please have your identification ready.'"
            ],
            "application/vnd.google.colaboratory.intrinsic+json": {
              "type": "string"
            }
          },
          "metadata": {},
          "execution_count": 14
        }
      ]
    },
    {
      "cell_type": "markdown",
      "source": [],
      "metadata": {
        "id": "rENrD10afBB3"
      }
    }
  ]
}