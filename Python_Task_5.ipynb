{
  "nbformat": 4,
  "nbformat_minor": 0,
  "metadata": {
    "colab": {
      "provenance": []
    },
    "kernelspec": {
      "name": "python3",
      "display_name": "Python 3"
    },
    "language_info": {
      "name": "python"
    }
  },
  "cells": [
    {
      "cell_type": "markdown",
      "source": [
        "1.  Write a Python program to create a class representing a Circle. Include methods to calculate its area and perimeter."
      ],
      "metadata": {
        "id": "4tmfT6cJ7_NH"
      }
    },
    {
      "cell_type": "code",
      "execution_count": 12,
      "metadata": {
        "colab": {
          "base_uri": "https://localhost:8080/",
          "height": 0
        },
        "id": "S9Q-KakT714C",
        "outputId": "f6a635fe-5600-4556-a2de-6d86b163ca8b"
      },
      "outputs": [
        {
          "output_type": "stream",
          "name": "stdout",
          "text": [
            "3.14\n",
            "6.28\n",
            "78.5\n",
            "31.400000000000002\n",
            "124347.14\n",
            "1249.72\n"
          ]
        }
      ],
      "source": [
        "class Circle:\n",
        "  def __init__(self,radius):\n",
        "    self.radius = radius\n",
        "\n",
        "  def area(self):\n",
        "    return 3.14 * self.radius * self.radius\n",
        "\n",
        "  def perimeter(self):\n",
        "    return 2*3.14*self.radius\n",
        "\n",
        "\n",
        "small = Circle(1)\n",
        "print(small.area())\n",
        "print(small.perimeter())\n",
        "\n",
        "medium = Circle(5)\n",
        "print(medium.area())\n",
        "print(medium.perimeter())\n",
        "\n",
        "large = Circle(199)\n",
        "print(large.area())\n",
        "print(large.perimeter())\n"
      ]
    },
    {
      "cell_type": "markdown",
      "source": [
        "\n",
        "2. Write a Python program to create a calculator class. Include methods for basic arithmetic operations."
      ],
      "metadata": {
        "id": "jC54LmCK7_KO"
      }
    },
    {
      "cell_type": "code",
      "source": [
        "class Calculator:\n",
        "  def __init__(self):\n",
        "    pass\n",
        "\n",
        "  def add(self,a,b):\n",
        "    return a+b\n",
        "\n",
        "  def substract(self,a,b):\n",
        "    return a-b\n",
        "\n",
        "  def multiply(self,a,b):\n",
        "    return a*b\n",
        "\n",
        "  def divide(self,a,b):\n",
        "    return a/b\n",
        "\n",
        "  def difference(self,a,b):\n",
        "    return abs(a-b)\n",
        "\n",
        "calculator = Calculator()\n",
        "\n",
        "print(calculator.add(100,10))\n",
        "print(calculator.substract(100,10))\n",
        "print(calculator.multiply(100,10))\n",
        "print(calculator.divide(100,10))\n",
        "print(calculator.difference(100,10))"
      ],
      "metadata": {
        "colab": {
          "base_uri": "https://localhost:8080/",
          "height": 0
        },
        "id": "Y8VCf5zk-oHn",
        "outputId": "dc7f7d54-d9ea-4698-cf7e-e29e20bcc0f9"
      },
      "execution_count": 15,
      "outputs": [
        {
          "output_type": "stream",
          "name": "stdout",
          "text": [
            "110\n",
            "90\n",
            "1000\n",
            "10.0\n",
            "90\n"
          ]
        }
      ]
    },
    {
      "cell_type": "markdown",
      "source": [
        "\n",
        "3. Write a Python program to create a class that represents a shape. Include methods to calculate its area and perimeter. Implement subclasses for different shapes like circle, triangle, and square.\n",
        "\n"
      ],
      "metadata": {
        "id": "AQyaZIu77_HY"
      }
    },
    {
      "cell_type": "code",
      "source": [
        "class Shape:\n",
        "  def __init__(self):\n",
        "    pass\n",
        "\n",
        "  def area(self):\n",
        "    pass\n",
        "\n",
        "  def perimeter(self):\n",
        "    pass\n",
        "\n",
        "class Circle(Shape):\n",
        "  def __init__(self,radius):\n",
        "    self.radius = radius\n",
        "\n",
        "  def area(self):\n",
        "    return 3.14 * self.radius * self.radius\n",
        "\n",
        "  def perimeter(self):\n",
        "    return 2*3.14*self.radius\n",
        "\n",
        "class Square(Shape):\n",
        "  def __init__(self,side):\n",
        "    self.side = side\n",
        "\n",
        "  def area(self):\n",
        "    return self.side * self.side\n",
        "\n",
        "  def perimeter(self):\n",
        "    return 4*self.side\n",
        "\n",
        "class Triangle(Shape):\n",
        "  def __init__(self,width,height):\n",
        "    self.width = width\n",
        "    self.height = height\n",
        "\n",
        "\n",
        "  def area(self):\n",
        "    return self.height * self.width /2\n",
        "\n",
        "  def perimeter(self):\n",
        "    return 4*self.height # dummy\n",
        "\n",
        "\n",
        "list_of_shapes = [Circle(8),Square(2),Triangle(2,3)]\n",
        "\n",
        "for s in list_of_shapes:\n",
        "  print(\"The area is {}\".format(s.area()))\n",
        "  print(\"The perimeter is {}\".format(s.perimeter()))\n",
        "\n"
      ],
      "metadata": {
        "colab": {
          "base_uri": "https://localhost:8080/",
          "height": 0
        },
        "id": "8QEIljGu_dn4",
        "outputId": "e22b14f6-5ccf-46b8-f765-e2a8ce65607d"
      },
      "execution_count": 26,
      "outputs": [
        {
          "output_type": "stream",
          "name": "stdout",
          "text": [
            "The area is 200.96\n",
            "The perimeter is 50.24\n",
            "The area is 4\n",
            "The perimeter is 8\n",
            "The area is 3.0\n",
            "The perimeter is 12\n"
          ]
        }
      ]
    },
    {
      "cell_type": "code",
      "source": [],
      "metadata": {
        "id": "1bmu0pQGAg-k"
      },
      "execution_count": null,
      "outputs": []
    }
  ]
}